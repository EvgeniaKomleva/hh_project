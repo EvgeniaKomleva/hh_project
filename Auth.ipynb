{
 "cells": [
  {
   "cell_type": "code",
   "execution_count": 1,
   "metadata": {},
   "outputs": [
    {
     "name": "stdout",
     "output_type": "stream",
     "text": [
      "cb11c9be2f67e46afb99279f5883faa2\n",
      "<RequestsCookieJar[<Cookie __ddg1=fJz3xx1LwRgdIIlqrKkZ for .hh.ru/>, <Cookie _xsrf=cb11c9be2f67e46afb99279f5883faa2 for .hh.ru/>, <Cookie hhtoken=8cT9VlzHZKitEN6_glgcxfThCW7p for .hh.ru/>, <Cookie hhuid=6aogOmxpJBbGhF7_!ts27A-- for .hh.ru/>, <Cookie _xsrf=cb11c9be2f67e46afb99279f5883faa2 for hh.ru/>, <Cookie display=desktop for hh.ru/>, <Cookie hhrole=anonymous for hh.ru/>, <Cookie regions=1 for hh.ru/>]>\n"
     ]
    }
   ],
   "source": [
    "import requests\n",
    "\n",
    "url = 'https://hh.ru/account/login?from=employer_index_header&backurl=%2Femployer'\n",
    "\n",
    "# Важно. По умолчанию requests отправляет вот такой \n",
    "# заголовок 'User-Agent': 'python-requests/2.22.0 ,  а это приводит к тому , что Nginx\n",
    "# отправляет 404 ответ. Поэтому нам нужно сообщить серверу, что запрос идет от браузера  \n",
    "\n",
    "user_agent_val = 'Mozilla/5.0 (Windows NT 10.0; Win64; x64) AppleWebKit/537.36 (KHTML, like Gecko) Chrome/83.0.4103.116 Safari/537.36'\n",
    "# Создаем сессию и указываем ему наш user-agent\n",
    "session = requests.Session()\n",
    "r = session.get(url, headers = {\n",
    "    'User-Agent': user_agent_val\n",
    "})\n",
    "with open(\"hh_succes.html\",\"w\",encoding=\"utf-8\") as f:\n",
    "    f.write(r.text)\n",
    "# Указываем referer. Иногда , если не указать , то приводит к ошибкам. \n",
    "session.headers.update({'Referer':url})\n",
    "\n",
    "#Хотя , мы ранее указывали наш user-agent и запрос удачно прошел и вернул \n",
    "# нам нужный ответ, но user-agent изменился на тот , который был \n",
    "# по умолчанию. И поэтому мы обновляем его.\n",
    "session.headers.update({'User-Agent':user_agent_val})\n",
    "\n",
    "\n",
    "# В куках у нас будет два значения _xsrf. Один для hh.ru , а другой moscow.hh.ru.Хотя , значение одно и тоже\n",
    "# Если написать просто session.cookies.get('_xsrf') то возникнет исключение, и поэтому\n",
    "# вот таким способом , что внизу получим значение _xsrf\n",
    "for item in session.cookies.items():\n",
    "    if item[0] == '_xsrf':\n",
    "        _xsrf = item[1]\n",
    "        break\n",
    "print(_xsrf)\n",
    "print( session.cookies)\n",
    "# Осуществляем вход с помощью метода POST с указанием необходимых данных \n",
    "post_request = session.post(url, {\n",
    "     'backUrl': 'https://moscow.hh.ru/account/login',\n",
    "     'failUrl': '/account/login?backurl=%2F',\n",
    "     'username': 'komleva.1999@inbox.ru',\n",
    "     'password': 'hfpbkz115',\n",
    "     'remember':'yes',\n",
    "    '_xsrf': _xsrf,\n",
    "    #'action': 'Войти',\n",
    "    }\n",
    ")\n",
    "#Вход успешно воспроизведен и мы сохраняем страницу в html файл\n",
    "with open(\"hh_success.html\",\"w\",encoding=\"utf-8\") as f:\n",
    "    f.write(post_request.text)"
   ]
  },
  {
   "cell_type": "code",
   "execution_count": null,
   "metadata": {},
   "outputs": [],
   "source": []
  }
 ],
 "metadata": {
  "kernelspec": {
   "display_name": "Python 3",
   "language": "python",
   "name": "python3"
  },
  "language_info": {
   "codemirror_mode": {
    "name": "ipython",
    "version": 3
   },
   "file_extension": ".py",
   "mimetype": "text/x-python",
   "name": "python",
   "nbconvert_exporter": "python",
   "pygments_lexer": "ipython3",
   "version": "3.7.7"
  }
 },
 "nbformat": 4,
 "nbformat_minor": 4
}
